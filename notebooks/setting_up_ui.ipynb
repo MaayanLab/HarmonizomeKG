{
 "cells": [
  {
   "attachments": {},
   "cell_type": "markdown",
   "metadata": {},
   "source": [
    "# Building the UI\n",
    "## Before we start (OPTIONAL)\n",
    "Before we start, it might be a good idea to fork this repository. This is to ensure that we can easily get a link to your schema.\n",
    "\n",
    "![fork](./img/fork.png)\n",
    "\n",
    "Once you forked the repo, you can then clone your own repository.\n",
    "\n",
    "## Introduction\n",
    "In addition to the Neo4j console and the notebook earlier, we can provide develop a public facing website that we can share with the public without providing them write access to the neo4j database.\n",
    "\n",
    "The UI provides single and two-term search where the latter uses allShortestPath to query all the shortest paths between two terms. To build the UI, we need to create a UI schema that is built using the data that was ingested in the graph db. This notebook automates the creation of this schema file."
   ]
  },
  {
   "cell_type": "code",
   "execution_count": 1,
   "metadata": {},
   "outputs": [],
   "source": [
    "import re\n",
    "import json\n",
    "from glob import glob\n",
    "import pandas as pd"
   ]
  },
  {
   "attachments": {},
   "cell_type": "markdown",
   "metadata": {},
   "source": [
    "## Node Schema\n",
    "\n",
    "```\n",
    "{\n",
    "    \"node\": \"Gene\",\n",
    "    \"example\": [\n",
    "        \"COPB2\",\n",
    "        \"SDF2L1\"\n",
    "    ],\n",
    "    \"display\": [\n",
    "        {\n",
    "            \"label\": \"Gene ID\",\n",
    "            \"text\": \"${id}\",\n",
    "            \"type\": \"text\"\n",
    "        },\n",
    "        {\n",
    "            \"label\": \"label\",\n",
    "            \"text\": \"${label}\",\n",
    "            \"type\": \"text\"\n",
    "        },\n",
    "        {\n",
    "            \"label\": \"uri\",\n",
    "            \"text\": \"${uri}\",\n",
    "            \"href\": \"${uri}\",\n",
    "            \"type\": \"link\"\n",
    "        }\n",
    "    ],\n",
    "    \"search\": [\n",
    "        \"id\",\n",
    "        \"label\"\n",
    "    ],\n",
    "    \"color\": \"#c5e1a5\"\n",
    "}\n",
    "\n",
    "```\n",
    "This is a node schema for the node \"Gene\". The example field will be displayed display as an example on the UI while the display field tells the UI what to display as a tooltip. Meanwhile, search tells the UI that we can search both id and label fields of the nodes. Node colors are automatically generated but can otherwise be set using the field color for more customization."
   ]
  },
  {
   "cell_type": "code",
   "execution_count": 2,
   "metadata": {},
   "outputs": [
    {
     "name": "stderr",
     "output_type": "stream",
     "text": [
      "<>:2: SyntaxWarning: invalid escape sequence '\\.'\n",
      "<>:2: SyntaxWarning: invalid escape sequence '\\.'\n",
      "/var/folders/xb/bmqyy0q9303b04mkwvb2k48m0000gn/T/ipykernel_8765/1831667586.py:2: SyntaxWarning: invalid escape sequence '\\.'\n",
      "  node_pattern = \"(?P<directory>.+)/(?P<label>.+)\\.(?P<entity>.+)\\.csv\"\n"
     ]
    }
   ],
   "source": [
    "node_schema = []\n",
    "node_pattern = \"(?P<directory>.+)/(?P<label>.+)\\.(?P<entity>.+)\\.csv\"\n",
    "\n",
    "# Change this path to the file including all of your serialized edges and nodes\n",
    "for filename in glob(\"/Users/nialingam/Desktop/all_csv/*.nodes.csv\"):\n",
    "    match = re.match(node_pattern, filename).groupdict()\n",
    "    label = match[\"label\"].replace(\"_\", \" \")\n",
    "    df = pd.read_csv(filename)\n",
    "    display = []\n",
    "    for i in df.columns:\n",
    "        if i == \"id\":\n",
    "            display.append({\n",
    "                'label': '%s ID'%label,\n",
    "                'text': \"${%s'}\"%i,\n",
    "                'type': 'text'\n",
    "            })\n",
    "        else:\n",
    "            val = str(df.at[0, i])\n",
    "            if val.startswith(\"http\"):\n",
    "                display.append({\n",
    "                    'label': i,\n",
    "                    'text': \"${%s}\"%i,\n",
    "                    'href': \"${%s}\"%i,\n",
    "                    'type': 'link'\n",
    "                })\n",
    "            else:\n",
    "                display.append({\n",
    "                    'label': i,\n",
    "                    'text': \"${%s}\"%i,\n",
    "                    'type': 'text'\n",
    "                })\n",
    "    examples = list(df.head(2).label)\n",
    "    node = {\n",
    "        \"node\": label,\n",
    "        \"example\": examples,\n",
    "        \"display\": display,\n",
    "        \"relation\": [],\n",
    "        \"search\": [\n",
    "            \"id\",\n",
    "            \"label\",\n",
    "        ],\n",
    "        # \"color\": \"#c5e1a5\"\n",
    "    }\n",
    "    node_schema.append(node)\n",
    "        "
   ]
  },
  {
   "cell_type": "code",
   "execution_count": 3,
   "metadata": {},
   "outputs": [
    {
     "data": {
      "text/plain": [
       "126"
      ]
     },
     "execution_count": 3,
     "metadata": {},
     "output_type": "execute_result"
    }
   ],
   "source": [
    "len(node_schema)"
   ]
  },
  {
   "attachments": {},
   "cell_type": "markdown",
   "metadata": {},
   "source": [
    "## Edge Schema\n",
    "```\n",
    "{\n",
    "    \"match\": [\n",
    "        \"KEGG\"\n",
    "    ],\n",
    "    \"selected\": true,\n",
    "    \"display\": [\n",
    "        {\n",
    "            \"label\": \"source\",\n",
    "            \"text\": \"${source}\",\n",
    "            \"type\": \"text\"\n",
    "        },\n",
    "        {\n",
    "            \"label\": \"relation\",\n",
    "            \"text\": \"${relation}\",\n",
    "            \"type\": \"text\"\n",
    "        },\n",
    "        {\n",
    "            \"label\": \"target\",\n",
    "            \"text\": \"${target}\",\n",
    "            \"type\": \"text\"\n",
    "        },\n",
    "        {\n",
    "            \"label\": \"source label\",\n",
    "            \"text\": \"${source_label}\",\n",
    "            \"type\": \"text\"\n",
    "        },\n",
    "        {\n",
    "            \"label\": \"target label\",\n",
    "            \"text\": \"${target_label}\",\n",
    "            \"type\": \"text\"\n",
    "        },\n",
    "        {\n",
    "            \"label\": \"resource\",\n",
    "            \"text\": \"${resource}\",\n",
    "            \"href\": \"${resource}\",\n",
    "            \"type\": \"link\"\n",
    "        }\n",
    "    ]\n",
    "}\n",
    "```\n",
    "\n",
    "This is the same with node schema with a few differences, first match allows you to match multiple edge types and selected is a field that allows us to select what edges are queried by default when doing two term searches."
   ]
  },
  {
   "cell_type": "code",
   "execution_count": 4,
   "metadata": {},
   "outputs": [
    {
     "name": "stderr",
     "output_type": "stream",
     "text": [
      "<>:2: SyntaxWarning: invalid escape sequence '\\.'\n",
      "<>:2: SyntaxWarning: invalid escape sequence '\\.'\n",
      "/var/folders/xb/bmqyy0q9303b04mkwvb2k48m0000gn/T/ipykernel_8765/3852481074.py:2: SyntaxWarning: invalid escape sequence '\\.'\n",
      "  edge_pattern = \"(?P<directory>.+)/(?P<source_type>.+)\\.(?P<relation>.+)\\.(?P<target_type>.+)\\.(?P<entity>.+)\\.csv\"\n"
     ]
    }
   ],
   "source": [
    "edge_schema = []\n",
    "edge_pattern = \"(?P<directory>.+)/(?P<source_type>.+)\\.(?P<relation>.+)\\.(?P<target_type>.+)\\.(?P<entity>.+)\\.csv\"\n",
    "\n",
    "# change path name to the same folder as above!\n",
    "for filename in glob(\"/Users/nialingam/Desktop/all_csv/*.edges.csv\"):\n",
    "   match = re.match(edge_pattern, filename).groupdict()\n",
    "   entity = match[\"entity\"]\n",
    "   source_type = match[\"source_type\"]\n",
    "   relation = match[\"relation\"]\n",
    "   edge = {\n",
    "      \"match\": [relation],\n",
    "      \"selected\": True,\n",
    "   }\n",
    "   df = pd.read_csv(filename)\n",
    "   display = []\n",
    "   for i in df.columns:\n",
    "      if i == \"id\":\n",
    "         display.append({\n",
    "               'label': '%s ID'%label,\n",
    "               'text': \"${%s}\"%i,\n",
    "               'type': 'text'\n",
    "         })\n",
    "      else:\n",
    "         val = str(df.at[0, i])\n",
    "         if val.startswith(\"http\"):\n",
    "               display.append({\n",
    "                  'label': i.replace(\"_\", \" \"),\n",
    "                  'text': \"${%s}\"%i,\n",
    "                  'href': \"${%s}\"%i,\n",
    "                  'type': 'link'\n",
    "               })\n",
    "         else:\n",
    "               display.append({\n",
    "                  'label': i.replace(\"_\", \" \"),\n",
    "                  'text': \"${%s}\"%i,\n",
    "                  'type': 'text'\n",
    "               })\n",
    "         edge[\"display\"] = display\n",
    "   edge_schema.append(edge)\n",
    "         "
   ]
  },
  {
   "cell_type": "code",
   "execution_count": 5,
   "metadata": {},
   "outputs": [
    {
     "data": {
      "text/plain": [
       "171"
      ]
     },
     "execution_count": 5,
     "metadata": {},
     "output_type": "execute_result"
    }
   ],
   "source": [
    "len(edge_schema)"
   ]
  },
  {
   "attachments": {},
   "cell_type": "markdown",
   "metadata": {},
   "source": [
    "## Additional schema\n",
    "\n",
    "The next part are miscellaneous schemas that you can use to modify our UI. Notice the tabs field, this is where we define the pages in our knowledge graph as well as the components that you want to render.\n",
    "\n",
    "Currently we have the following components available:\n",
    "1. KnowledgeGraph: this renders the single and two term search components\n",
    "2. Markdown: this is for rendering static markdown files, useful for tutorials\n",
    "3. Enrichment: For enrichment page.\n",
    "   \n",
    "Each component takes specific props like init_function that initializes/prefetch the static props for the page. For this example, we only look at the KnowledgeGraph component. For more information on how to use the other components you can check: https://maayanlab.cloud/enrichr-kg/api/knowledge_graph/schema"
   ]
  },
  {
   "cell_type": "code",
   "execution_count": 6,
   "metadata": {},
   "outputs": [],
   "source": [
    "# First you need to modify this based on your dataset. \n",
    "# This will be the initial query that the users will see when visiting your site\n",
    "initial_query = {\n",
    "\t\"start\": \"gene\",\n",
    "\t\"start_term\": \"STAT3\",\n",
    "\t\"start_field\": \"label\"\n",
    "}"
   ]
  },
  {
   "cell_type": "code",
   "execution_count": 7,
   "metadata": {},
   "outputs": [],
   "source": [
    "# This creates the schema.json file that will store your schema!\n",
    "\n",
    "# Change the titles and icons to your KG\n",
    "title = \"Harmonizome-KG\"\n",
    "icon = \"https://minio.dev.maayanlab.cloud/enrichr-kg/enrichr-kg.png\"\n",
    "rest = {\n",
    "    \"header\": {\n",
    "\t\t\"header\": title,\n",
    "\t\t\"title\": title,\n",
    "\t\t\"background\": {\n",
    "\t\t\t\"backgroundColor\": \"#000\",\n",
    "\t\t\t\"contrastText\": \"#FFF\"\n",
    "\t\t},\n",
    "\t\t\"icon\": {\n",
    "\t\t\t\"src\": icon,\n",
    "\t\t\t\"favicon\": icon,\n",
    "\t\t\t\"faviconTitle\": title,\n",
    "\t\t\t\"alt\": title,\n",
    "\t\t\t\"key\": \"%s_logo\"%title,\n",
    "\t\t\t\"width\": 100,\n",
    "\t\t\t\"height\": 60\n",
    "\t\t},\n",
    "\t\t\"tabs\": [\n",
    "\t\t\t{\n",
    "\t\t\t\t\"endpoint\": \"/\",\n",
    "\t\t\t\t\"label\": \"Term & Gene Search\",\n",
    "\t\t\t\t\"type\": \"page\",\n",
    "\t\t\t\t\"component\": \"KnowledgeGraph\",\n",
    "\t\t\t\t\"props\": {\n",
    "\t\t\t\t\t\"init_function\": \"initialize_kg\",\n",
    "\t\t\t\t\t\"initial_query\": initial_query,\n",
    "\t\t\t\t\t\"subheader\": {\n",
    "\t\t\t\t\t\t\"url_field\": \"filter\",\n",
    "\t\t\t\t\t\t\"query_field\": \"relation\"\n",
    "\t\t\t\t\t}\n",
    "\t\t\t\t}\n",
    "\t\t\t\t}\n",
    "\t\t]\n",
    "\t},\n",
    "\t\"footer\": {\n",
    "\t\t\"style\": {\n",
    "            \"background\": \"#000\",\n",
    "            \"color\": \"#FFF\"\n",
    "        },\n",
    "\t\t\"layout\": [\n",
    "\t\t\t[\n",
    "\t\t\t\t{\n",
    "                    \"component\": \"logo\",\n",
    "                    \"props\": {\n",
    "                        \"src\": \"https://minio.dev.maayanlab.cloud/enrichr-kg/enrichr-kg.png\",\n",
    "                        \"alt\": \"enrichr-kg\",\n",
    "                        \"title\": \"Enrichr-KG\",\n",
    "                        \"color\": \"inherit\",\n",
    "                        \"size\": \"small\"\n",
    "                    }\n",
    "                },\n",
    "\t\t\t\t{\n",
    "                    \"component\": \"github\",\n",
    "                    \"props\": {\n",
    "                        \"code\": \"https://github.com/MaayanLab/enrichr-kg\",\n",
    "                        \"issues\": \"https://github.com/MaayanLab/enrichr-kg-issues/issues/new\"\n",
    "                    }\n",
    "                }\n",
    "\t\t\t],\n",
    "\t\t\t[\n",
    "\t\t\t\t{\n",
    "\t\t\t\t\t\"component\": \"icon\",\n",
    "\t\t\t\t\t\"props\": {\n",
    "\t\t\t\t\t\t\"type\": \"icon\",\n",
    "\t\t\t\t\t\t\"key\": \"lab_icon\",\n",
    "\t\t\t\t\t\t\"src\": \"https://minio.dev.maayanlab.cloud/enrichr-kg/maayanlab.png\",\n",
    "\t\t\t\t\t\t\"alt\": \"MaayanLab\",\n",
    "\t\t\t\t\t\t\"href\": \"https://labs.icahn.mssm.edu/maayanlab/\",\n",
    "\t\t\t\t\t\t\"height\": 60,\n",
    "\t\t\t\t\t\t\"width\": 150\n",
    "\t\t\t\t\t}\n",
    "\t\t\t\t  }\n",
    "\t\t\t],\n",
    "\t\t\t[\n",
    "\t\t\t\t{\n",
    "\t\t\t\t\t\"component\": \"icon\",\n",
    "\t\t\t\t\t\"props\": {\n",
    "\t\t\t\t\t\t\"type\": \"icon\",\n",
    "\t\t\t\t\t\t\"key\": \"center_icon\",\n",
    "\t\t\t\t\t\t\"src\": \"https://minio.dev.maayanlab.cloud/enrichr-kg/bioinformatics.png\",\n",
    "\t\t\t\t\t\t\"alt\": \"COB\",\n",
    "\t\t\t\t\t\t\"href\": \"https://icahn.mssm.edu/research/bioinformatics\",\n",
    "\t\t\t\t\t\t\"height\": 60,\n",
    "\t\t\t\t\t\t\"width\": 150\n",
    "\t\t\t\t\t}\n",
    "\t\t\t\t  }\n",
    "\t\t\t]\n",
    "\t\t],\n",
    "\t\t\"footer_text\": \"<span style='color:white'>Please acknowledge Enrichr-KG in your publications by citing the following reference:<br><a style='color: cyan' href='https://doi.org/10.1093/nar/gkad393'>Evangelista JE, Xie Z, Marino GB, Nguyen N, Clarke DJB, Ma'ayan A. Enrichr-KG: bridging enrichment analysis across multiple libraries. Nucleic Acids Res. 2023 May 11:gkad393. doi: 10.1093/nar/gkad393. PMID: 37166973.</a></span>\"\n",
    "\t},\n",
    "\t\"ui_theme\": \"enrichr_kg_theme\"\n",
    "}"
   ]
  },
  {
   "attachments": {},
   "cell_type": "markdown",
   "metadata": {},
   "source": [
    "## Putting it all together"
   ]
  },
  {
   "cell_type": "code",
   "execution_count": 8,
   "metadata": {},
   "outputs": [],
   "source": [
    "schema = {\n",
    "    \"nodes\": node_schema,\n",
    "    \"edges\": edge_schema,\n",
    "    **rest\n",
    "}\n",
    "\n",
    "with open(\"../schema_sample.json\", 'w') as o:\n",
    "    o.write(json.dumps(schema, indent=4))"
   ]
  },
  {
   "attachments": {},
   "cell_type": "markdown",
   "metadata": {},
   "source": [
    "Once you have the schema you can upload it somewhere to obtain a link of the file. If you forked the repo you can commit it and push to your forked repository.\n",
    "\n",
    "```\n",
    "git add schema.json\n",
    "git commit -m updated schema\n",
    "git push\n",
    "```\n",
    "\n",
    "To get the link, go to schema.json on github and click raw:\n",
    "\n",
    "![raw](./img/raw.png)\n",
    "![raw_link](./img/raw_link.png)\n",
    "\n",
    "Now let's clone the knowledge graph UI\n",
    "\n",
    "```\n",
    "git clone git@github.com:MaayanLab/Gene-Knowledge-Graph.git\n",
    "cd Gene-Knowledge-Graph \n",
    "git checkout next14\n",
    "```\n",
    "\n",
    "Now let's go and copy `.env.example`\n",
    "\n",
    "```\n",
    "cp .env.example .env\n",
    "```\n",
    "\n",
    ".env should look something like this\n",
    "\n",
    "```\n",
    "NEXT_PUBLIC_PREFIX=\n",
    "NEXT_PUBLIC_NEO4J_DEV_URL=bolt://neo4j:7687\n",
    "NEXT_PUBLIC_NEO4J_URL=bolt://neo4j:7687\n",
    "\n",
    "NEXT_PUBLIC_NEO4J_USER=neo4j\n",
    "NEXT_PUBLIC_NEO4J_NAME=kg\n",
    "\n",
    "NEXT_PUBLIC_NEO4J_USER=neo4j\n",
    "NEXT_PUBLIC_NEO4J_NAME=kg\n",
    "\n",
    "NEXT_PUBLIC_NEO4J_PASSWORD=pass\n",
    "\n",
    "\n",
    "NEXT_PUBLIC_DOMAINS=minio.dokku.maayanlab.cloud,github.com,minio.dev.maayanlab.cloud,s3.amazonaws.com,raw.githubusercontent.com\n",
    "NEXT_PUBLIC_ENRICHR_URL=https://maayanlab.cloud/Enrichr\n",
    "NEXT_PUBLIC_GENESHOT_URL=https://maayanlab.cloud/geneshot\n",
    "NEXT_PUBLIC_HOST=http://localhost:3000\n",
    "NEXT_PUBLIC_SCHEMA=https://raw.githubusercontent.com/MaayanLab/KnowledgeGraphDemo/main/schema.json\n",
    "NEXT_PUBLIC_TURL=turlkey\n",
    "NEXT_PUBLIC_TURL_URL=https://maayanlab.cloud/turl/api/register\n",
    "APP_NAME=kg-demo\n",
    "DOCKERHUB_NAME=maayanlab\n",
    "```\n",
    "\n",
    "Now go ahead and change `NEXT_PUBLIC_SCHEMA` to your link, you can also change `APP_NAME` and `DOCKERHUB_NAME` according to your dockerhub account\n",
    "\n",
    "Run the following:\n",
    "```\n",
    "cd cli\n",
    "python version-compose.py\n",
    "cd ..\n",
    "```\n",
    "This adjusts your compose file based on your .env"
   ]
  },
  {
   "cell_type": "markdown",
   "metadata": {},
   "source": [
    "## Ingestion\n",
    "Now let's try ingesting data. Runa the following script\n",
    "\n",
    "```\n",
    "docker-compose up neo4j\n",
    "# this is usually python ../src/import_csv.py ../notebooks/csv \n",
    "python /path/to/import_csv.py /path/to/csv\n",
    "```\n",
    "![ingestion](img/ingestion.png)\n"
   ]
  },
  {
   "cell_type": "markdown",
   "metadata": {},
   "source": [
    "## Running it locally\n",
    "\n",
    "You might need to install Node.js and NPM first https://docs.npmjs.com/downloading-and-installing-node-js-and-npm\n",
    "```\n",
    "npm i\n",
    "npm run dev\n",
    "```\n",
    "go to http://localhost:3000\n"
   ]
  },
  {
   "cell_type": "markdown",
   "metadata": {},
   "source": [
    "## Building and Running Docker Container\n",
    "\n",
    "```\n",
    "docker-compose build kg\n",
    "docker-compose up\n",
    "```\n",
    "you can check http://localhost:3000 again\n",
    "\n",
    "```\n",
    "# push to dockerhub\n",
    "docker-compose push kg\n",
    "```"
   ]
  },
  {
   "cell_type": "markdown",
   "metadata": {},
   "source": [
    "## Add colors"
   ]
  },
  {
   "cell_type": "code",
   "execution_count": 7,
   "metadata": {},
   "outputs": [],
   "source": [
    "import glasbey\n",
    "import json\n",
    "import seaborn as sns"
   ]
  },
  {
   "cell_type": "code",
   "execution_count": 3,
   "metadata": {},
   "outputs": [],
   "source": [
    "with open('../schema.json') as o:\n",
    "\tschema = json.loads(o.read())"
   ]
  },
  {
   "cell_type": "code",
   "execution_count": 4,
   "metadata": {},
   "outputs": [
    {
     "data": {
      "text/plain": [
       "125"
      ]
     },
     "execution_count": 4,
     "metadata": {},
     "output_type": "execute_result"
    }
   ],
   "source": [
    "len(schema[\"nodes\"])"
   ]
  },
  {
   "cell_type": "code",
   "execution_count": 8,
   "metadata": {},
   "outputs": [
    {
     "data": {
      "image/png": "[encoded data removed]",
      "text/plain": [
       "<Figure size 12500x100 with 1 Axes>"
      ]
     },
     "metadata": {},
     "output_type": "display_data"
    }
   ],
   "source": [
    "palette = glasbey.create_palette(palette_size=len(schema[\"nodes\"]))\n",
    "sns.palplot(palette)"
   ]
  },
  {
   "cell_type": "code",
   "execution_count": 9,
   "metadata": {},
   "outputs": [
    {
     "data": {
      "text/plain": [
       "'#d21820'"
      ]
     },
     "execution_count": 9,
     "metadata": {},
     "output_type": "execute_result"
    }
   ],
   "source": [
    "palette[0]"
   ]
  },
  {
   "cell_type": "code",
   "execution_count": 10,
   "metadata": {},
   "outputs": [],
   "source": [
    "index = 0\n",
    "for i in schema[\"nodes\"]:\n",
    "\ti[\"color\"] = palette[index]\n",
    "\tindex += 1"
   ]
  },
  {
   "cell_type": "code",
   "execution_count": 14,
   "metadata": {},
   "outputs": [],
   "source": [
    "with open(\"../schema.json\", \"w\") as o:\n",
    "\to.write(json.dumps(schema, indent=4))"
   ]
  },
  {
   "cell_type": "code",
   "execution_count": null,
   "metadata": {},
   "outputs": [],
   "source": []
  }
 ],
 "metadata": {
  "kernelspec": {
   "display_name": "venv",
   "language": "python",
   "name": "python3"
  },
  "language_info": {
   "codemirror_mode": {
    "name": "ipython",
    "version": 3
   },
   "file_extension": ".py",
   "mimetype": "text/x-python",
   "name": "python",
   "nbconvert_exporter": "python",
   "pygments_lexer": "ipython3",
   "version": "3.12.2"
  },
  "orig_nbformat": 4,
  "vscode": {
   "interpreter": {
    "hash": "798122c9e4f43102ac6a3a7c51d7fe95ee01edcdc77ff31e968bccde04a8b5dc"
   }
  }
 },
 "nbformat": 4,
 "nbformat_minor": 2
}
