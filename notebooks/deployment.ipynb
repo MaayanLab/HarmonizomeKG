{
 "cells": [
  {
   "cell_type": "markdown",
   "metadata": {},
   "source": [
    "## Deployment of KG UI"
   ]
  },
  {
   "cell_type": "markdown",
   "metadata": {},
   "source": [
    "#1. Get Access to Dokku\n",
    "\n",
    "Steps: https://dokku.dev.maayanlab.cloud/user/10-access.html.\n",
    "Request access from Daniel Clarke and provide him with your GitHub handle."
   ]
  },
  {
   "cell_type": "markdown",
   "metadata": {},
   "source": [
    "#2. Create a Dump of your Neo4j DB\n"
   ]
  },
  {
   "cell_type": "markdown",
   "metadata": {},
   "source": [
    "First make sure your container is running on Neo4j"
   ]
  },
  {
   "cell_type": "code",
   "execution_count": null,
   "metadata": {
    "vscode": {
     "languageId": "plaintext"
    }
   },
   "outputs": [],
   "source": [
    "docker-compose stop neo4j\n",
    "docker-compose run neo4j neo4j-admin database dump neo4j\n",
    "docker-compose start neo4j"
   ]
  },
  {
   "cell_type": "markdown",
   "metadata": {},
   "source": [
    "This creates the dump in binary in \"KnowledgeGraphDemo/data/neo4j/dumps/neo4j.dump\""
   ]
  },
  {
   "cell_type": "markdown",
   "metadata": {},
   "source": [
    "#3. Create Neo4j on Dokku"
   ]
  },
  {
   "cell_type": "code",
   "execution_count": null,
   "metadata": {
    "vscode": {
     "languageId": "plaintext"
    }
   },
   "outputs": [],
   "source": [
    "dokku neo4j:create <db-name> neo4j 5.19"
   ]
  },
  {
   "cell_type": "markdown",
   "metadata": {},
   "source": [
    "#4. Ingest your Dump"
   ]
  },
  {
   "cell_type": "code",
   "execution_count": null,
   "metadata": {
    "vscode": {
     "languageId": "plaintext"
    }
   },
   "outputs": [],
   "source": [
    "cd data/neo4j/dumps\n",
    "dokku neo4j:import <db-name> < neo4j.dump"
   ]
  },
  {
   "cell_type": "markdown",
   "metadata": {},
   "source": [
    "#5. Create your App"
   ]
  },
  {
   "cell_type": "code",
   "execution_count": null,
   "metadata": {
    "vscode": {
     "languageId": "plaintext"
    }
   },
   "outputs": [],
   "source": [
    "dokku apps:create <app-name>"
   ]
  },
  {
   "cell_type": "markdown",
   "metadata": {},
   "source": [
    "#6. Get the Credentials and Update your .env File in Gene-Knowledge-Graph"
   ]
  },
  {
   "cell_type": "code",
   "execution_count": null,
   "metadata": {
    "vscode": {
     "languageId": "plaintext"
    }
   },
   "outputs": [],
   "source": [
    "dokku neo4j:info <app-name> --dsn"
   ]
  },
  {
   "cell_type": "markdown",
   "metadata": {},
   "source": [
    "This will return an output in this format: bolt://neo4j:[new_password]@[new_url]"
   ]
  },
  {
   "cell_type": "markdown",
   "metadata": {},
   "source": [
    "Update your .env file in Gene-Knowledge-Graph like so\n",
    "\n",
    "NEXT_PUBLIC_PREFIX=\\\n",
    "NEXT_PUBLIC_NEO4J_DEV_URL=bolt://localhost:7687\\\n",
    "NEXT_PUBLIC_NEO4J_URL=bolt://[new_url]\\\n",
    "NEXT_PUBLIC_NEO4J_V5_URL=bolt://[new_url] \\\n",
    "NEO4J_DEV_URL=bolt://localhost:7687\n",
    "\n",
    "NEXT_PUBLIC_NEO4J_USER=neo4j\n",
    "NEXT_PUBLIC_NEO4J_NAME=kg\n",
    "\n",
    "\n",
    "NEXT_PUBLIC_NEO4J_PASSWORD=[new_password]\n",
    "\n",
    "\n",
    "\n",
    "NEXT_PUBLIC_DOMAINS=minio.dokku.maayanlab.cloud,github.com,minio.dev.maayanlab.cloud,s3.amazonaws.com,raw.githubusercontent.com\n",
    "NEXT_PUBLIC_ENRICHR_URL=https://maayanlab.cloud/Enrichr\\\n",
    "NEXT_PUBLIC_GENESHOT_URL=https://maayanlab.cloud/geneshot\\\n",
    "NEXT_PUBLIC_HOST=https://[app_name].dev.maayanlab.cloud/\\\n",
    "NEXT_PUBLIC_SCHEMA=\\\n",
    "NEXT_PUBLIC_TURL=turlkey\\\n",
    "NEXT_PUBLIC_TURL_URL=https://maayanlab.cloud/turl/api/register\\\n",
    "APP_NAME=[app_name]\\\n",
    "DOCKERHUB_NAME=[dockerhub_name]\\\n",
    "NEO4J_VERSION=5\n",
    "NEO4J_USER="
   ]
  },
  {
   "cell_type": "markdown",
   "metadata": {},
   "source": [
    "#6. Update Dokku Config"
   ]
  },
  {
   "cell_type": "markdown",
   "metadata": {},
   "source": [
    "Run this command:  dokku config:set <app_name> \"NEXT_PUBLIC_NEO4J_DEV_URL=bolt://localhost:7687\". Make sure to add every key-value pair in your .env file like how we did for the NEXT_PUBLIC_NEO4J_DEV_URL and it's value. It should be a long command."
   ]
  },
  {
   "cell_type": "markdown",
   "metadata": {},
   "source": [
    "#7. Build the Site"
   ]
  },
  {
   "cell_type": "code",
   "execution_count": null,
   "metadata": {
    "vscode": {
     "languageId": "plaintext"
    }
   },
   "outputs": [],
   "source": [
    "cd Gene-Knowledge-Graph\n",
    "npm version patch"
   ]
  },
  {
   "cell_type": "markdown",
   "metadata": {},
   "source": [
    "#8. Deploy Directly from DockerHub"
   ]
  },
  {
   "cell_type": "code",
   "execution_count": null,
   "metadata": {
    "vscode": {
     "languageId": "plaintext"
    }
   },
   "outputs": [],
   "source": [
    "dokku git:from-image <app_name> <image_name>"
   ]
  },
  {
   "cell_type": "markdown",
   "metadata": {},
   "source": [
    "Check docker-compose.yml in Gene-Knowledge-Graph and look for \"services>kg>image\" for the image name. Make sure to include the version at the end of the image. This version will update each time you run npm version patch so make sure to update the git command as well."
   ]
  },
  {
   "cell_type": "markdown",
   "metadata": {},
   "source": [
    "#9. Finalizing Deployment"
   ]
  },
  {
   "cell_type": "code",
   "execution_count": null,
   "metadata": {
    "vscode": {
     "languageId": "plaintext"
    }
   },
   "outputs": [],
   "source": [
    "dokku proxy:clear-config <app_name>\n",
    "dokku proxy:ports-set <app_name> 'http:80:<port_number>' // Ex. 3000 if your local site was at localhost:3000\n",
    "dokku traefik:enable <app_name>\n",
    "dokku neo4j:link <db_name> <app_name>"
   ]
  },
  {
   "cell_type": "markdown",
   "metadata": {},
   "source": [
    "And that's all! Check your site at https://[app_name].dev.maayanlab.cloud/"
   ]
  },
  {
   "cell_type": "markdown",
   "metadata": {},
   "source": [
    "#10. What to do if you make changes and want to redeploy"
   ]
  },
  {
   "cell_type": "code",
   "execution_count": null,
   "metadata": {
    "vscode": {
     "languageId": "plaintext"
    }
   },
   "outputs": [],
   "source": [
    "cd Gene-Knowledge-Graph\n",
    "npm version patch\n",
    "dokku git:from-image <app_name> <image_name> // remember to get the new version from docker-compose.yml"
   ]
  }
 ],
 "metadata": {
  "language_info": {
   "name": "python"
  },
  "orig_nbformat": 4
 },
 "nbformat": 4,
 "nbformat_minor": 2
}
