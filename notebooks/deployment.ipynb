{
 "cells": [
  {
   "cell_type": "markdown",
   "metadata": {},
   "source": [
    "# Tutorial on How to Deploy Your KG UI"
   ]
  },
  {
   "cell_type": "markdown",
   "metadata": {},
   "source": [
    "### #1. Get Access to Dokku\n",
    "\n",
    "Dokku is an ssh server, and in order to deploy your app you will need to run commands on the server (ssh and git push). "
   ]
  },
  {
   "cell_type": "markdown",
   "metadata": {},
   "source": [
    "Follow these steps to get set up with Dokku: https://dokku.dev.maayanlab.cloud/user/10-access.html. Note that you will need to request access from Daniel Clarke and provide him with your GitHub handle to run dokku commands."
   ]
  },
  {
   "cell_type": "markdown",
   "metadata": {},
   "source": [
    "### #2. Create a Dump of your Neo4j Database\n"
   ]
  },
  {
   "cell_type": "markdown",
   "metadata": {},
   "source": [
    "First make sure your container is running on Neo4j. We will need to stop the container in order to create the dump of your Neo4j db."
   ]
  },
  {
   "cell_type": "code",
   "execution_count": null,
   "metadata": {
    "vscode": {
     "languageId": "plaintext"
    }
   },
   "outputs": [],
   "source": [
    "docker-compose stop neo4j\n",
    "docker-compose run neo4j neo4j-admin database dump neo4j\n",
    "docker-compose start neo4j"
   ]
  },
  {
   "cell_type": "markdown",
   "metadata": {},
   "source": [
    "This creates the dump in binary located at \"KnowledgeGraphDemo/data/neo4j/dumps/neo4j.dump\""
   ]
  },
  {
   "cell_type": "markdown",
   "metadata": {},
   "source": [
    "### #3. Create Neo4j on Dokku"
   ]
  },
  {
   "cell_type": "code",
   "execution_count": null,
   "metadata": {
    "vscode": {
     "languageId": "plaintext"
    }
   },
   "outputs": [],
   "source": [
    "dokku neo4j:create [db-name]"
   ]
  },
  {
   "cell_type": "markdown",
   "metadata": {},
   "source": [
    "### #4. Ingest your Dump"
   ]
  },
  {
   "cell_type": "code",
   "execution_count": null,
   "metadata": {
    "vscode": {
     "languageId": "plaintext"
    }
   },
   "outputs": [],
   "source": [
    "cd data/neo4j/dumps\n",
    "dokku neo4j:import [db-name] < neo4j.dump"
   ]
  },
  {
   "cell_type": "markdown",
   "metadata": {},
   "source": [
    "Now your Neo4j dump has been sent to the dokku database."
   ]
  },
  {
   "cell_type": "markdown",
   "metadata": {},
   "source": [
    "### #5. Create your App"
   ]
  },
  {
   "cell_type": "code",
   "execution_count": null,
   "metadata": {
    "vscode": {
     "languageId": "plaintext"
    }
   },
   "outputs": [],
   "source": [
    "dokku apps:create [app-name]"
   ]
  },
  {
   "cell_type": "markdown",
   "metadata": {},
   "source": [
    "### #6. Get the Credentials for your App and Update your .env File in Gene-Knowledge-Graph"
   ]
  },
  {
   "cell_type": "code",
   "execution_count": null,
   "metadata": {
    "vscode": {
     "languageId": "plaintext"
    }
   },
   "outputs": [],
   "source": [
    "dokku neo4j:info [app-name] --dsn"
   ]
  },
  {
   "cell_type": "markdown",
   "metadata": {},
   "source": [
    "This will return an output in this format: bolt://<span style=\"background-color: #FFFF00\">[new_username]</span>:<span style=\"background-color: #FFFF00\">[new_password]</span>@<span style=\"background-color: #FFFF00\">[new_url]</span>"
   ]
  },
  {
   "cell_type": "markdown",
   "metadata": {},
   "source": [
    "Update your .env file in Gene-Knowledge-Graph like so\n",
    "\n",
    "NEXT_PUBLIC_PREFIX=\\\n",
    "NEXT_PUBLIC_NEO4J_DEV_URL=bolt://localhost:7687\\\n",
    "NEXT_PUBLIC_NEO4J_URL=bolt://<span style=\"background-color: #FFFF00\">[new_url]</span>\\\n",
    "NEXT_PUBLIC_NEO4J_V5_URL=bolt://<span style=\"background-color: #FFFF00\">[new_url]</span>\\\n",
    "NEO4J_DEV_URL=bolt://localhost:7687\n",
    "\n",
    "NEXT_PUBLIC_NEO4J_USER=<span style=\"background-color: #FFFF00\">[new_username]</span>\\\n",
    "NEXT_PUBLIC_NEO4J_NAME=kg\n",
    "\n",
    "\n",
    "NEXT_PUBLIC_NEO4J_PASSWORD=<span style=\"background-color: #FFFF00\">[new_password]</span>\n",
    "\n",
    "\n",
    "\n",
    "NEXT_PUBLIC_DOMAINS=minio.dokku.maayanlab.cloud,github.com,minio.dev.maayanlab.cloud,s3.amazonaws.com,raw.githubusercontent.com\n",
    "NEXT_PUBLIC_ENRICHR_URL=https://maayanlab.cloud/Enrichr \\\n",
    "NEXT_PUBLIC_GENESHOT_URL=https://maayanlab.cloud/geneshot \\\n",
    "NEXT_PUBLIC_HOST=https://<span style=\"background-color: #FFFF00\">[app_name]</span>.dev.maayanlab.cloud/ \\\n",
    "NEXT_PUBLIC_SCHEMA=\\\n",
    "NEXT_PUBLIC_TURL=turlkey\\\n",
    "NEXT_PUBLIC_TURL_URL=https://maayanlab.cloud/turl/api/register \\\n",
    "APP_NAME=<span style=\"background-color: #FFFF00\">[app_name]</span>\\\n",
    "DOCKERHUB_NAME=<span style=\"background-color: #FFFF00\">[dockerhub_name]</span>\\\n",
    "NEO4J_VERSION=5\n",
    "NEO4J_USER="
   ]
  },
  {
   "cell_type": "markdown",
   "metadata": {},
   "source": [
    "### #6. Update Dokku Config"
   ]
  },
  {
   "cell_type": "markdown",
   "metadata": {},
   "source": [
    "You will need to run this command: dokku config:set [app_name] \"SOME_KEY=SOME_VALUE\", but will need to add EVERY key-value pair in your .env file in quotes."
   ]
  },
  {
   "cell_type": "markdown",
   "metadata": {},
   "source": [
    "For example if we wanted to update the config with the first three key-value pairs, the command would look like this:"
   ]
  },
  {
   "cell_type": "code",
   "execution_count": null,
   "metadata": {
    "vscode": {
     "languageId": "plaintext"
    }
   },
   "outputs": [],
   "source": [
    "dokku config:set [app_name] \"NEXT_PUBLIC_NEO4J_DEV_URL=bolt://localhost:7687\" \n",
    "\"NEXT_PUBLIC_NEO4J_URL=bolt://[new_url]\" \"NEXT_PUBLIC_NEO4J_V5_URL=bolt://[new_url]\""
   ]
  },
  {
   "cell_type": "markdown",
   "metadata": {},
   "source": [
    "If you want to review the config, run:"
   ]
  },
  {
   "cell_type": "code",
   "execution_count": null,
   "metadata": {
    "vscode": {
     "languageId": "plaintext"
    }
   },
   "outputs": [],
   "source": [
    "dokku config:show [app_name]"
   ]
  },
  {
   "cell_type": "markdown",
   "metadata": {},
   "source": [
    "And if you accidentally set a wrong key/value pair, run:"
   ]
  },
  {
   "cell_type": "code",
   "execution_count": null,
   "metadata": {
    "vscode": {
     "languageId": "plaintext"
    }
   },
   "outputs": [],
   "source": [
    "dokku config:unset my-app SOME_KEY // *Note that there's no quotes around SOME_KEY"
   ]
  },
  {
   "cell_type": "markdown",
   "metadata": {},
   "source": [
    "### #7. Build the Site"
   ]
  },
  {
   "cell_type": "code",
   "execution_count": null,
   "metadata": {
    "vscode": {
     "languageId": "plaintext"
    }
   },
   "outputs": [],
   "source": [
    "cd Gene-Knowledge-Graph\n",
    "npm i\n",
    "npm version patch"
   ]
  },
  {
   "cell_type": "markdown",
   "metadata": {},
   "source": [
    "### #8. Deploy Directly from DockerHub"
   ]
  },
  {
   "cell_type": "code",
   "execution_count": null,
   "metadata": {
    "vscode": {
     "languageId": "plaintext"
    }
   },
   "outputs": [],
   "source": [
    "dokku git:from-image [app_name] [image_name]"
   ]
  },
  {
   "cell_type": "markdown",
   "metadata": {},
   "source": [
    "Check docker-compose.yml in Gene-Knowledge-Graph and look for \"services>kg>image\" for the image name. Make sure to include the version at the end of the image. This version will update each time you run \"npm version patch\" and rebuild, so make sure to update the git command as well after each time you rebuild."
   ]
  },
  {
   "cell_type": "markdown",
   "metadata": {},
   "source": [
    "### #9. Finalizing Deployment"
   ]
  },
  {
   "cell_type": "code",
   "execution_count": null,
   "metadata": {
    "vscode": {
     "languageId": "plaintext"
    }
   },
   "outputs": [],
   "source": [
    "dokku proxy:clear-config [app_name]\n",
    "dokku proxy:ports-set [app_name] 'http:80:<port_number>' // Ex. 3000 if your local site was at localhost:3000\n",
    "dokku traefik:enable [app_name]\n",
    "dokku neo4j:link [db_name] [app_name]"
   ]
  },
  {
   "cell_type": "markdown",
   "metadata": {},
   "source": [
    "And that's all! Your site is deployed at https://<span style=\"background-color: #FFFF00\">[app_name]</span>.dev.maayanlab.cloud/!!"
   ]
  },
  {
   "cell_type": "markdown",
   "metadata": {},
   "source": [
    "### #10. What to do if you Make Changes and Want to Rebuild the App"
   ]
  },
  {
   "cell_type": "code",
   "execution_count": null,
   "metadata": {
    "vscode": {
     "languageId": "plaintext"
    }
   },
   "outputs": [],
   "source": [
    "cd Gene-Knowledge-Graph\n",
    "npm version patch\n",
    "dokku git:from-image [app_name] [image_name] // remember to get the new version from docker-compose.yml"
   ]
  },
  {
   "cell_type": "markdown",
   "metadata": {},
   "source": [
    "### #11. Maintenance"
   ]
  },
  {
   "cell_type": "markdown",
   "metadata": {},
   "source": [
    "Reference the User Guide for some commands that will help you manage your app: https://dokku.dev.maayanlab.cloud/user/40-manage.html."
   ]
  }
 ],
 "metadata": {
  "language_info": {
   "name": "python"
  },
  "orig_nbformat": 4
 },
 "nbformat": 4,
 "nbformat_minor": 2
}
